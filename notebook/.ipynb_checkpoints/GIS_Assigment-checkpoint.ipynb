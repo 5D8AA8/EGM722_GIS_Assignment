{
 "cells": [
  {
   "cell_type": "code",
   "execution_count": 1,
   "id": "ddbc3632-47d7-4739-93d5-5170eec14800",
   "metadata": {},
   "outputs": [],
   "source": [
    "import os\n",
    "import tkinter as tk\n",
    "import pandas as pd\n",
    "import geopandas as gpd\n",
    "import folium\n",
    "import matplotlib.pyplot as plt\n",
    "from shapely.geometry import mapping\n",
    "from tkinter import filedialog\n",
    "from shapely.geometry import Point, Polygon, LineString\n",
    "import webbrowser\n",
    "from shapely.geometry import MultiPolygon\n",
    "import earthaccess\n",
    "from shapely.geometry.polygon import orient\n",
    "import shapely\n",
    "\n"

   ]
  },
  {
   "cell_type": "code",
   "execution_count": 2,
   "id": "e5573cb3-ec7e-411b-b70e-0c6b3a930ec5",
   "metadata": {},
   "outputs": [],
   "source": [
    "#os.environ[\"GDAL_DATA\"] = r\"C:\\Users\\marti\\.conda\\envs\\Spatial_cluster\\Library\\share\\gdal\"\n",
    "#os.environ[\"PROJ_LIB\"] = r\"C:\\Users\\marti\\.conda\\envs\\Spatial_cluster\\Library\\share\\proj\"\n"
   ]
  },
  {
   "cell_type": "code",
   "execution_count": 3,
   "id": "dbef20ab-1cc1-4f5e-866f-5e923aa91495",
   "metadata": {},
   "outputs": [],
   "source": [
    "# load the csv file use a dialog box (from TKinter user guuide)\n",
    "root = tk.Tk()\n",
    "root.withdraw()\n",
    "file = filedialog.askopenfilename()\n",
    "df = pd.read_csv(file, encoding='latin1')"
   ]
  },
  {
   "cell_type": "code",
   "execution_count": 4,
   "id": "e46cb4e1-b68c-4eeb-9c1a-995d22464fa8",
   "metadata": {},
   "outputs": [
    {
     "name": "stdout",
     "output_type": "stream",
     "text": [
      "First 10 rows of the data:\n",
      "     ï»¿eventid  iyear  imonth  iday approxdate  extended  resolution  \\\n",
      "0  1.970010e+11   1970       1     0        NaN         0         NaN   \n",
      "1  1.970030e+11   1970       3    31        NaN         1  03/04/1970   \n",
      "2  1.971110e+11   1971      11    20        NaN         0         NaN   \n",
      "3  1.973040e+11   1973       4    25        NaN         0         NaN   \n",
      "4  1.973080e+11   1973       8    29        NaN         0         NaN   \n",
      "5  1.974070e+11   1974       7    15        NaN         0         NaN   \n",
      "6  1.974080e+11   1974       8    15        NaN         0         NaN   \n",
      "7  1.974110e+11   1974      11    14        NaN         0         NaN   \n",
      "8  1.974110e+11   1974      11    22        NaN         0         NaN   \n",
      "9  1.975020e+11   1975       2    28        NaN         0         NaN   \n",
      "\n",
      "   country  country_txt  region region_txt provstate      city   latitude  \\\n",
      "0      101        Japan       4  East Asia   Fukouka   Fukouka  33.580412   \n",
      "1      101        Japan       4  East Asia   Fukouka   Fukouka  33.580412   \n",
      "2      201       Taiwan       4  East Asia    Penghu   Unknown  23.583333   \n",
      "3      101        Japan       4  East Asia  Kanagawa  Yokosuka  35.281341   \n",
      "4      101        Japan       4  East Asia     Tokyo     Tokyo  35.689125   \n",
      "5      101        Japan       4  East Asia     Hyogo     Itami  34.784306   \n",
      "6      184  South Korea       4  East Asia     Seoul     Seoul  37.566535   \n",
      "7      101        Japan       4  East Asia     Tokyo     Tokyo  35.689125   \n",
      "8      101        Japan       4  East Asia   Fukouka   Fukouka  33.580412   \n",
      "9      101        Japan       4  East Asia     Tokyo     Tokyo  35.689125   \n",
      "\n",
      "    longitude  specificity  vicinity location summary  \n",
      "0  130.396361            1         0      NaN     NaN  \n",
      "1  130.396361            1         0      NaN     NaN  \n",
      "2  119.583330            4         0      NaN     NaN  \n",
      "3  139.672200            1         0      NaN     NaN  \n",
      "4  139.747742            1         0      NaN     NaN  \n",
      "5  135.400947            1         0      NaN     NaN  \n",
      "6  126.977969            1         0      NaN     NaN  \n",
      "7  139.747742            1         0      NaN     NaN  \n",
      "8  130.396361            1         0      NaN     NaN  \n",
      "9  139.747742            1         0      NaN     NaN  \n",
      "\n",
      "-----------------------------\n",
      "\n",
      "Total number of rows: 847\n",
      "Total number of columns: 19\n"
     ]
    }
   ],
   "source": [
    "# load the csv into a dataframe df\n",
    "# Show the first 10 rows of the csv dataset  - to let me understand what is in it\n",
    "print(\"First 10 rows of the data:\")\n",
    "print(df.head(10))\n",
    "\n",
    "print(\"\\n-----------------------------\\n\")\n",
    "\n",
    "# Count how many rows are in the data, this will let you know what happens when it is cleaned\n",
    "row_count = len(df)\n",
    "print(\"Total number of rows:\", row_count)\n",
    "\n",
    "# Count how many columns are in the data so that you can understand the size and shape of the csv dataset for the terrorism\n",
    "col_count = len(df.columns)\n",
    "print(\"Total number of columns:\", col_count)"
   ]
  },
  {
   "cell_type": "code",
   "execution_count": 5,
   "id": "8da08040-1e45-4c1d-8f25-1e3370b0a324",
   "metadata": {},
   "outputs": [],
   "source": [
    "# to reduce the date three colums into one to limit the impact processing needed  (Big o ) notation) \n",
    "if 'iyear' in df and 'imonth' in df and 'iday' in df:\n",
    "    df['date'] = pd.to_datetime(\n",
    "        dict(year=df['iyear'], month=df['imonth'], day=df['iday']), errors='coerce')"
   ]
  },
  {
   "cell_type": "code",
   "execution_count": 6,
   "id": "9109f430-2757-47d8-9461-ed1beb561351",
   "metadata": {},
   "outputs": [
    {
     "name": "stdout",
     "output_type": "stream",
     "text": [
      "     ï»¿eventid  iyear  imonth  iday approxdate  extended  resolution  \\\n",
      "0  1.970010e+11   1970       1     0        NaN         0         NaN   \n",
      "1  1.970030e+11   1970       3    31        NaN         1  03/04/1970   \n",
      "2  1.971110e+11   1971      11    20        NaN         0         NaN   \n",
      "3  1.973040e+11   1973       4    25        NaN         0         NaN   \n",
      "4  1.973080e+11   1973       8    29        NaN         0         NaN   \n",
      "5  1.974070e+11   1974       7    15        NaN         0         NaN   \n",
      "6  1.974080e+11   1974       8    15        NaN         0         NaN   \n",
      "7  1.974110e+11   1974      11    14        NaN         0         NaN   \n",
      "8  1.974110e+11   1974      11    22        NaN         0         NaN   \n",
      "9  1.975020e+11   1975       2    28        NaN         0         NaN   \n",
      "\n",
      "   country  country_txt  region region_txt provstate      city   latitude  \\\n",
      "0      101        Japan       4  East Asia   Fukouka   Fukouka  33.580412   \n",
      "1      101        Japan       4  East Asia   Fukouka   Fukouka  33.580412   \n",
      "2      201       Taiwan       4  East Asia    Penghu   Unknown  23.583333   \n",
      "3      101        Japan       4  East Asia  Kanagawa  Yokosuka  35.281341   \n",
      "4      101        Japan       4  East Asia     Tokyo     Tokyo  35.689125   \n",
      "5      101        Japan       4  East Asia     Hyogo     Itami  34.784306   \n",
      "6      184  South Korea       4  East Asia     Seoul     Seoul  37.566535   \n",
      "7      101        Japan       4  East Asia     Tokyo     Tokyo  35.689125   \n",
      "8      101        Japan       4  East Asia   Fukouka   Fukouka  33.580412   \n",
      "9      101        Japan       4  East Asia     Tokyo     Tokyo  35.689125   \n",
      "\n",
      "    longitude  specificity  vicinity location summary       date  \n",
      "0  130.396361            1         0      NaN     NaN        NaT  \n",
      "1  130.396361            1         0      NaN     NaN 1970-03-31  \n",
      "2  119.583330            4         0      NaN     NaN 1971-11-20  \n",
      "3  139.672200            1         0      NaN     NaN 1973-04-25  \n",
      "4  139.747742            1         0      NaN     NaN 1973-08-29  \n",
      "5  135.400947            1         0      NaN     NaN 1974-07-15  \n",
      "6  126.977969            1         0      NaN     NaN 1974-08-15  \n",
      "7  139.747742            1         0      NaN     NaN 1974-11-14  \n",
      "8  130.396361            1         0      NaN     NaN 1974-11-22  \n",
      "9  139.747742            1         0      NaN     NaN 1975-02-28  \n"
     ]
    }
   ],
   "source": [
    "# Show the first 10 rows to check the date has been combined in the data frame\n",
    "print(df.head(10))"
   ]
  },
  {
   "cell_type": "code",
   "execution_count": 7,
   "id": "6fd0b66f-6de5-4bad-8080-0daea3fae6e2",
   "metadata": {},
   "outputs": [
    {
     "name": "stdout",
     "output_type": "stream",
     "text": [
      "\n",
      "Total number of rows: 847\n"
     ]
    }
   ],
   "source": [
    "# Count the total number of rows to show how many incidents there are\n",
    "print(\"\\nTotal number of rows:\", len(df))"
   ]
  },
  {
   "cell_type": "code",
   "execution_count": 8,
   "id": "c08fe116-bdcc-4251-bbb0-4b301621f17b",
   "metadata": {},
   "outputs": [
    {
     "name": "stdout",
     "output_type": "stream",
     "text": [
      "Total number of columns: 20\n"
     ]
    }
   ],
   "source": [
    "# Count how many columns are in the csv dataset\n",
    "col_count = len(df.columns)\n",
    "print(\"Total number of columns:\", col_count)"
   ]
  },
  {
   "cell_type": "code",
   "execution_count": 9,
   "id": "e3b724b9-e661-47da-8090-5e4452713388",
   "metadata": {},
   "outputs": [],
   "source": [
    "# Keep only the columns that are needed for the project\n",
    "columns_to_keep = ['region_txt', 'country_txt','city',  'date', 'latitude', 'longitude', 'summary']\n",
    "df = df[columns_to_keep]\n",
    "\n"
   ]
  },
  {
   "cell_type": "code",
   "execution_count": 10,
   "id": "4a497a98-b370-459f-8d2a-712585bb8fd7",
   "metadata": {},
   "outputs": [
    {
     "name": "stdout",
     "output_type": "stream",
     "text": [
      "Total number of columns: 7\n",
      "  region_txt  country_txt      city       date   latitude   longitude summary\n",
      "0  East Asia        Japan   Fukouka        NaT  33.580412  130.396361     NaN\n",
      "1  East Asia        Japan   Fukouka 1970-03-31  33.580412  130.396361     NaN\n",
      "2  East Asia       Taiwan   Unknown 1971-11-20  23.583333  119.583330     NaN\n",
      "3  East Asia        Japan  Yokosuka 1973-04-25  35.281341  139.672200     NaN\n",
      "4  East Asia        Japan     Tokyo 1973-08-29  35.689125  139.747742     NaN\n",
      "5  East Asia        Japan     Itami 1974-07-15  34.784306  135.400947     NaN\n",
      "6  East Asia  South Korea     Seoul 1974-08-15  37.566535  126.977969     NaN\n",
      "7  East Asia        Japan     Tokyo 1974-11-14  35.689125  139.747742     NaN\n",
      "8  East Asia        Japan   Fukouka 1974-11-22  33.580412  130.396361     NaN\n",
      "9  East Asia        Japan     Tokyo 1975-02-28  35.689125  139.747742     NaN\n"
     ]
    }
   ],
   "source": [
    "# Count how many columns are in the csv dataset\n",
    "col_count = len(df.columns)\n",
    "print(\"Total number of columns:\", col_count)\n",
    "\n",
    "# Show the first 10 rows to check the columns have been removed from the data frame\n",
    "print(df.head(10))"
   ]
  },
  {
   "cell_type": "code",
   "execution_count": 11,
   "id": "092db18f-6271-4a90-83a2-e012242257fb",
   "metadata": {},
   "outputs": [],
   "source": [
    "# Remove rows with missing latitude or longitude - as points need to be plotted\n",
    "if 'latitude' in df and 'longitude' in df:\n",
    "    df = df.dropna(subset=['latitude', 'longitude'])"
   ]
  },
  {
   "cell_type": "code",
   "execution_count": 12,
   "id": "fa1070a1-2f25-4c2e-83a8-c62044b33ba7",
   "metadata": {},
   "outputs": [
    {
     "name": "stdout",
     "output_type": "stream",
     "text": [
      "\n",
      "Total number of rows: 839\n"
     ]
    }
   ],
   "source": [
    "# Count the total number of rows to show how many incidents there are\n",
    "print(\"\\nTotal number of rows:\", len(df))"
   ]
  },
  {
   "cell_type": "code",
   "execution_count": 13,
   "id": "e4e85c30-7874-473f-9dad-746b059e52e8",
   "metadata": {},
   "outputs": [],
   "source": [
    "# lowercase text for all the columns to make handelling text easier if needed\n",
    "for col in df.columns:\n",
    "    if df[col].dtype == object:\n",
    "        df[col] = df[col].str.lower().str.strip()"
   ]
  },
  {
   "cell_type": "code",
   "execution_count": 14,
   "id": "f5521595-e789-4607-9e05-1ff954e83d23",
   "metadata": {},
   "outputs": [
    {
     "name": "stdout",
     "output_type": "stream",
     "text": [
      "\n",
      "Total number of rows: 839\n"
     ]
    }
   ],
   "source": [
    "# Count the total number of rows do see how many duplicate records there were\n",
    "print(\"\\nTotal number of rows:\", len(df))\n",
    "\n",
    "# drop duplicates\n",
    "df.drop_duplicates(inplace=True)"
   ]
  },
  {
   "cell_type": "code",
   "execution_count": 15,
   "id": "6ea22e2f-70ab-4f90-93ce-a5949ccbc685",
   "metadata": {},
   "outputs": [
    {
     "name": "stdout",
     "output_type": "stream",
     "text": [
      "  region_txt country_txt      city       date   latitude   longitude summary\n",
      "0  east asia       japan   fukouka        NaT  33.580412  130.396361     NaN\n",
      "1  east asia       japan   fukouka 1970-03-31  33.580412  130.396361     NaN\n",
      "2  east asia      taiwan   unknown 1971-11-20  23.583333  119.583330     NaN\n",
      "3  east asia       japan  yokosuka 1973-04-25  35.281341  139.672200     NaN\n",
      "4  east asia       japan     tokyo 1973-08-29  35.689125  139.747742     NaN\n"
     ]
    }
   ],
   "source": [
    "# Show a few rows to check if text is lowercased\n",
    "print(df.head(5))  # Shows first 5 rows"
   ]
  },
  {
   "cell_type": "code",
   "execution_count": 16,
   "id": "879d5c40-03d5-462d-81c5-7876ba187172",
   "metadata": {},
   "outputs": [
    {
     "name": "stdout",
     "output_type": "stream",
     "text": [
      "  region_txt country_txt      city       date   latitude   longitude summary\n",
      "0  east asia       japan   fukouka        NaT  33.580412  130.396361     NaN\n",
      "1  east asia       japan   fukouka 1970-03-31  33.580412  130.396361     NaN\n",
      "2  east asia      taiwan   unknown 1971-11-20  23.583333  119.583330     NaN\n",
      "3  east asia       japan  yokosuka 1973-04-25  35.281341  139.672200     NaN\n",
      "4  east asia       japan     tokyo 1973-08-29  35.689125  139.747742     NaN\n"
     ]
    }
   ],
   "source": [
    "print(df.head())\n"
   ]
  },
  {
   "cell_type": "code",
   "execution_count": 17,
   "id": "c43f84d2-3388-4653-b9fd-d4ecb181b9f9",
   "metadata": {},
   "outputs": [
    {
     "name": "stderr",
     "output_type": "stream",
     "text": [
      "C:\\Users\\marti\\.conda\\envs\\Spatial_cluster\\Lib\\site-packages\\pyogrio\\core.py:35: RuntimeWarning: Could not detect GDAL data files.  Set GDAL_DATA environment variable to the correct path.\n",
      "  _init_gdal_data()\n"
     ]
    },
    {
     "data": {
      "text/plain": [
       "True"
      ]
     },
     "execution_count": 17,
     "metadata": {},
     "output_type": "execute_result"
    }
   ],
   "source": [
    "# open file to get the shapefile of the countries\n",
    "root = tk.Tk()\n",
    "root.withdraw()\n",
    "\n",
    "file_path = filedialog.askopenfilename(\n",
    "    title=\"select your shapefile\",\n",
    "    filetypes=[(\"Shapefiles\", \"*.shp\")]\n",
    ")\n",
    "\n",
    "# load the selected shapefile of the countries\n",
    "gdf = gpd.read_file(file_path, encoding='latin1')\n",
    "\n",
    "# use the existing df_attacks (assumed already loaded and cleaned)\n",
    "\n",
    "# create a folium map and center it based on the shapefile\n",
    "bounds = gdf.total_bounds  # [minx, miny, maxx, maxy]\n",
    "center_lat = (bounds[1] + bounds[3]) / 2\n",
    "center_lon = (bounds[0] + bounds[2]) / 2\n",
    "\n",
    "# make the map\n",
    "m = folium.Map(location=[center_lat, center_lon], zoom_start=3)\n",
    "\n",
    "# add shapefile features\n",
    "for idx, row in gdf.iterrows():\n",
    "    geom = row['geometry']\n",
    "    \n",
    "    if isinstance(geom, Point):\n",
    "        folium.CircleMarker(\n",
    "            location=[geom.y, geom.x],\n",
    "            radius=3,\n",
    "            color='blue',\n",
    "            fill=True,\n",
    "            fill_opacity=0.6,\n",
    "            popup=f\"point - {row.get('city', 'unknown')}\"\n",
    "        ).add_to(m)\n",
    "        \n",
    "    elif isinstance(geom, Polygon):\n",
    "        folium.Polygon(\n",
    "            locations=[(coord[1], coord[0]) for coord in geom.exterior.coords],\n",
    "            color='green',\n",
    "            fill=True,\n",
    "            fill_opacity=0.4,\n",
    "            popup=\"polygon area\"\n",
    "        ).add_to(m)\n",
    "        \n",
    "    elif isinstance(geom, MultiPolygon):\n",
    "        for poly in geom:\n",
    "            folium.Polygon(\n",
    "                locations=[(coord[1], coord[0]) for coord in poly.exterior.coords],\n",
    "                color='purple',\n",
    "                fill=True,\n",
    "                fill_opacity=0.4,\n",
    "                popup=\"multipolygon area\"\n",
    "            ).add_to(m)\n",
    "\n",
    "    elif isinstance(geom, LineString):\n",
    "        folium.PolyLine(\n",
    "            locations=[(coord[1], coord[0]) for coord in geom.coords],\n",
    "            color='red',\n",
    "            weight=2,\n",
    "            popup=\"line path\"\n",
    "        ).add_to(m)\n",
    "\n",
    "# add attack locations on the same map\n",
    "for idx, row in df.iterrows():\n",
    "    folium.CircleMarker(\n",
    "        location=[row['latitude'], row['longitude']],\n",
    "        radius=2,\n",
    "        color='red',\n",
    "        fill=True,\n",
    "        fill_opacity=0.7,\n",
    "        popup=folium.Popup(\n",
    "            f\"city: {row.get('city', 'unknown')}<br>\"\n",
    "            f\"country: {row.get('country', 'unknown')}<br>\"\n",
    "            f\"date: {row.get('date', 'unknown')}\",\n",
    "            max_width=300\n",
    "        )\n",
    "    ).add_to(m)\n",
    "\n",
    "# save the combined map\n",
    "output_map = \"generated_map.html\"\n",
    "m.save(output_map)\n",
    "\n",
    "# open the html map automatically\n",
    "webbrowser.open(output_map)"
   ]
  },
  {
   "cell_type": "code",

   "metadata": {},
   "outputs": [
    {
     "name": "stdout",
     "output_type": "stream",
     "text": [
      "Variable          Type             Data/Info\n",
      "--------------------------------------------\n",
      "LineString        type             <class 'shapely.geometry.linestring.LineString'>\n",
      "MultiPolygon      type             <class 'shapely.geometry.<...>ltipolygon.MultiPolygon'>\n",
      "NamespaceMagics   MetaHasTraits    <class 'IPython.core.magi<...>mespace.NamespaceMagics'>\n",
      "Point             type             <class 'shapely.geometry.point.Point'>\n",
      "Polygon           type             <class 'shapely.geometry.polygon.Polygon'>\n",
      "bounds            ndarray          4: 4 elems, type `float64`, 32 bytes\n",
      "center_lat        float64          22.337583694084636\n",
      "center_lon        float64          113.97768430984286\n",
      "col               str              summary\n",
      "col_count         int              7\n",
      "columns_to_keep   list             n=7\n",
      "df                DataFrame            region_txt country_tx<...>n\\n[694 rows x 7 columns]\n",
      "earthaccess       module           <module 'earthaccess' fro<...>arthaccess\\\\__init__.py'>\n",
      "file              str              C:/Users/marti/EGM722_Ass<...>a/east asia terrorism.csv\n",
      "file_path         str              C:/Users/marti/Downloads/<...>2_converted_converted.shp\n",
      "filedialog        module           <module 'tkinter.filedial<...>\\tkinter\\\\filedialog.py'>\n",
      "folium            module           <module 'folium' from 'C:<...>es\\\\folium\\\\__init__.py'>\n",
      "gdf               GeoDataFrame        id       Name  descrip<...>1983 0, 113.58726 22...  \n",
      "geom              Polygon          POLYGON Z ((113.556855758<...>381 22.21982860492543 0))\n",
      "get_ipython       function         <function get_ipython at 0x0000017A3C77B4C0>\n",
      "gpd               module           <module 'geopandas' from <...>\\geopandas\\\\__init__.py'>\n",
      "idx               int              846\n",
      "json              module           <module 'json' from 'C:\\\\<...>\\Lib\\\\json\\\\__init__.py'>\n",
      "m                 Map              <folium.folium.Map object at 0x0000017A45AFF8C0>\n",
      "mapping           function         <function mapping at 0x0000017A426AB740>\n",
      "orient            function         <function orient at 0x0000017A426AA660>\n",
      "os                module           <module 'os' from 'C:\\\\Us<...>ial_cluster\\\\Lib\\\\os.py'>\n",
      "output_map        str              generated_map.html\n",
      "pd                module           <module 'pandas' from 'C:<...>es\\\\pandas\\\\__init__.py'>\n",
      "plt               module           <module 'matplotlib.pyplo<...>\\\\matplotlib\\\\pyplot.py'>\n",
      "root              Tk               .\n",
      "row               Series           region_txt               <...>nName: 846, dtype: object\n",
      "row_count         int              847\n",
      "shapely           module           <module 'shapely' from 'C<...>s\\\\shapely\\\\__init__.py'>\n",
      "sys               module           <module 'sys' (built-in)>\n",
      "tk                module           <module 'tkinter' from 'C<...>b\\\\tkinter\\\\__init__.py'>\n",
      "webbrowser        module           <module 'webbrowser' from<...>ter\\\\Lib\\\\webbrowser.py'>\n"
     ]
    }
   ],
   "source": [
    "%whos\n"
   ]
  },
  {
   "cell_type": "code",

   "metadata": {},
   "outputs": [
    {
     "name": "stdout",
     "output_type": "stream",
     "text": [

     ]
    }
   ],
   "source": [

   ]
  },
  {
   "cell_type": "code",

   ]
  },
  {
   "cell_type": "code",

   "metadata": {},
   "outputs": [
    {
     "data": {

   ]
  },
  {
   "cell_type": "code",

   "metadata": {},
   "outputs": [
    {
     "name": "stdout",
     "output_type": "stream",
     "text": [

     ]
    }
   ],
   "source": [

   ]
  },
  {
   "cell_type": "code",

   "metadata": {},
   "outputs": [
    {
     "data": {
      "application/vnd.jupyter.widget-view+json": {
       "model_id": "2a43b15268254d12a00db8764e193f0a",
       "version_major": 2,
       "version_minor": 0
      },
      "text/plain": [
       "QUEUEING TASKS | :   0%|          | 0/6 [00:00<?, ?it/s]"
      ]
     },
     "metadata": {},
     "output_type": "display_data"
    },
    {
     "data": {
      "application/vnd.jupyter.widget-view+json": {
       "model_id": "f600b36cc93d487583542695b7a45c9b",
       "version_major": 2,
       "version_minor": 0
      },
      "text/plain": [
       "PROCESSING TASKS | :   0%|          | 0/6 [00:00<?, ?it/s]"
      ]
     },
     "metadata": {},
     "output_type": "display_data"
    },
    {
     "data": {
      "application/vnd.jupyter.widget-view+json": {
       "model_id": "9c5ed2f1bc9042a3a4fb9f78ebe3d7db",
       "version_major": 2,
       "version_minor": 0
      },
      "text/plain": [
       "COLLECTING RESULTS | :   0%|          | 0/6 [00:00<?, ?it/s]"
      ]
     },
     "metadata": {},
     "output_type": "display_data"
    },
    {
     "name": "stdout",
     "output_type": "stream",
     "text": [

     ]
    }
   ],
   "source": [

   ]
  },
  {
   "cell_type": "code",

   "metadata": {},
   "outputs": [
    {
     "name": "stderr",
     "output_type": "stream",
     "text": [
      "C:\\Users\\marti\\.conda\\envs\\Spatial_cluster\\Lib\\site-packages\\rasterio\\env.py:664: RuntimeWarning: Cannot find gdalvrt.xsd (GDAL_DATA is not defined)\n",
      "  elif GDALDataFinder().find_file(\"gdalvrt.xsd\"):\n"
     ]
    },
    {
     "name": "stdout",
     "output_type": "stream",
     "text": [
      "C:/Users/marti/Downloads/LE07_L1TP_161029_20000627_20200918_02_T1_B3.TIF opened in r mode\n",
      "Image has 1 band(s)\n",
      "Image size (width, height): 7841 x 7121\n",
      "Band 1 data type is uint8\n",
      "CRS: EPSG:32640\n",
      "Bounds: BoundingBox(left=570585.0, bottom=4835385.0, right=805815.0, top=5049015.0)\n"
     ]
    },
    {
     "data": {

      ]
     },
     "metadata": {},
     "output_type": "display_data"

   ]
  },
  {
   "cell_type": "code",
   "execution_count": null,

   "metadata": {},
   "outputs": [],
   "source": [
    "#finish"
   ]
  }
 ],
 "metadata": {
  "kernelspec": {
   "display_name": "Python (Spatial_cluster)",
   "language": "python",
   "name": "spatial_cluster"
  },
  "language_info": {
   "codemirror_mode": {
    "name": "ipython",
    "version": 3
   },
   "file_extension": ".py",
   "mimetype": "text/x-python",
   "name": "python",
   "nbconvert_exporter": "python",
   "pygments_lexer": "ipython3",
   "version": "3.13.2"
  }
 },
 "nbformat": 4,
 "nbformat_minor": 5
}
