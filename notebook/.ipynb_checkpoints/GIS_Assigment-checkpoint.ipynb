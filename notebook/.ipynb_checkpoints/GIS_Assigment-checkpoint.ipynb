{
 "cells": [
  {
   "cell_type": "code",
   "execution_count": 32,
   "id": "ddbc3632-47d7-4739-93d5-5170eec14800",
   "metadata": {},
   "outputs": [],
   "source": [
    "import os\n",
    "import tkinter as tk\n",
    "import pandas as pd\n",
    "import geopandas as gpd\n",
    "import folium\n",
    "import matplotlib.pyplot as plt\n",
    "from shapely.geometry import mapping\n",
    "from tkinter import filedialog\n",
    "\n"
   ]
  },
  {
   "cell_type": "code",
   "execution_count": 33,
   "id": "dbef20ab-1cc1-4f5e-866f-5e923aa91495",
   "metadata": {},
   "outputs": [],
   "source": [
    "# load the csv file use a dialog box (from TKinter user guuide)\n",
    "root = tk.Tk()\n",
    "root.withdraw()\n",
    "file = filedialog.askopenfilename()\n",
    "df = pd.read_csv(file, encoding='latin1')"
   ]
  },
  {
   "cell_type": "code",
   "execution_count": 34,
   "id": "e46cb4e1-b68c-4eeb-9c1a-995d22464fa8",
   "metadata": {},
   "outputs": [
    {
     "name": "stdout",
     "output_type": "stream",
     "text": [
      "First 10 rows of the data:\n",
      "        eventid  iyear  imonth  iday approxdate  extended  resolution  \\\n",
      "0  1.970010e+11   1970       1     0        NaN         0         NaN   \n",
      "1  1.970030e+11   1970       3    31        NaN         1  03/04/1970   \n",
      "2  1.971110e+11   1971      11    20        NaN         0         NaN   \n",
      "3  1.973040e+11   1973       4    25        NaN         0         NaN   \n",
      "4  1.973080e+11   1973       8    29        NaN         0         NaN   \n",
      "5  1.974070e+11   1974       7    15        NaN         0         NaN   \n",
      "6  1.974080e+11   1974       8    15        NaN         0         NaN   \n",
      "7  1.974110e+11   1974      11    14        NaN         0         NaN   \n",
      "8  1.974110e+11   1974      11    22        NaN         0         NaN   \n",
      "9  1.975020e+11   1975       2    28        NaN         0         NaN   \n",
      "\n",
      "   country  country_txt  region  ... provstate      city   latitude  \\\n",
      "0      101        Japan       4  ...   Fukouka   Fukouka  33.580412   \n",
      "1      101        Japan       4  ...   Fukouka   Fukouka  33.580412   \n",
      "2      201       Taiwan       4  ...    Penghu   Unknown  23.583333   \n",
      "3      101        Japan       4  ...  Kanagawa  Yokosuka  35.281341   \n",
      "4      101        Japan       4  ...     Tokyo     Tokyo  35.689125   \n",
      "5      101        Japan       4  ...     Hyogo     Itami  34.784306   \n",
      "6      184  South Korea       4  ...     Seoul     Seoul  37.566535   \n",
      "7      101        Japan       4  ...     Tokyo     Tokyo  35.689125   \n",
      "8      101        Japan       4  ...   Fukouka   Fukouka  33.580412   \n",
      "9      101        Japan       4  ...     Tokyo     Tokyo  35.689125   \n",
      "\n",
      "    longitude  specificity  vicinity  location summary  \\\n",
      "0  130.396361            1         0       NaN     NaN   \n",
      "1  130.396361            1         0       NaN     NaN   \n",
      "2  119.583330            4         0       NaN     NaN   \n",
      "3  139.672200            1         0       NaN     NaN   \n",
      "4  139.747742            1         0       NaN     NaN   \n",
      "5  135.400947            1         0       NaN     NaN   \n",
      "6  126.977969            1         0       NaN     NaN   \n",
      "7  139.747742            1         0       NaN     NaN   \n",
      "8  130.396361            1         0       NaN     NaN   \n",
      "9  139.747742            1         0       NaN     NaN   \n",
      "\n",
      "                       geometry Cluster  \n",
      "0  POINT (130.396361 33.580412)       2  \n",
      "1  POINT (130.396361 33.580412)       2  \n",
      "2   POINT (119.58333 23.583333)       0  \n",
      "3    POINT (139.6722 35.281341)       2  \n",
      "4  POINT (139.747742 35.689125)       2  \n",
      "5  POINT (135.400947 34.784306)       2  \n",
      "6  POINT (126.977969 37.566535)       2  \n",
      "7  POINT (139.747742 35.689125)       2  \n",
      "8  POINT (130.396361 33.580412)       2  \n",
      "9  POINT (139.747742 35.689125)       2  \n",
      "\n",
      "[10 rows x 21 columns]\n",
      "\n",
      "-----------------------------\n",
      "\n",
      "Total number of rows: 839\n",
      "Total number of columns: 21\n"
     ]
    }
   ],
   "source": [
    "# load the csv into a dataframe df\n",
    "# Show the first 10 rows of the csv dataset  - to let me understand what is in it\n",
    "print(\"First 10 rows of the data:\")\n",
    "print(df.head(10))\n",
    "\n",
    "print(\"\\n-----------------------------\\n\")\n",
    "\n",
    "# Count how many rows are in the data, this will let you know what happens when it is cleaned\n",
    "row_count = len(df)\n",
    "print(\"Total number of rows:\", row_count)\n",
    "\n",
    "# Count how many columns are in the data so that you can understand the size and shape of the csv dataset for the terrorism\n",
    "col_count = len(df.columns)\n",
    "print(\"Total number of columns:\", col_count)"
   ]
  },
  {
   "cell_type": "code",
   "execution_count": 35,
   "id": "8da08040-1e45-4c1d-8f25-1e3370b0a324",
   "metadata": {},
   "outputs": [],
   "source": [
    "# to reduce the date three colums into one to limit the impact processing needed  (Big o ) notation) \n",
    "if 'iyear' in df and 'imonth' in df and 'iday' in df:\n",
    "    df['date'] = pd.to_datetime(\n",
    "        dict(year=df['iyear'], month=df['imonth'], day=df['iday']), errors='coerce')"
   ]
  },
  {
   "cell_type": "code",
   "execution_count": 36,
   "id": "9109f430-2757-47d8-9461-ed1beb561351",
   "metadata": {},
   "outputs": [
    {
     "name": "stdout",
     "output_type": "stream",
     "text": [
      "        eventid  iyear  imonth  iday approxdate  extended  resolution  \\\n",
      "0  1.970010e+11   1970       1     0        NaN         0         NaN   \n",
      "1  1.970030e+11   1970       3    31        NaN         1  03/04/1970   \n",
      "2  1.971110e+11   1971      11    20        NaN         0         NaN   \n",
      "3  1.973040e+11   1973       4    25        NaN         0         NaN   \n",
      "4  1.973080e+11   1973       8    29        NaN         0         NaN   \n",
      "5  1.974070e+11   1974       7    15        NaN         0         NaN   \n",
      "6  1.974080e+11   1974       8    15        NaN         0         NaN   \n",
      "7  1.974110e+11   1974      11    14        NaN         0         NaN   \n",
      "8  1.974110e+11   1974      11    22        NaN         0         NaN   \n",
      "9  1.975020e+11   1975       2    28        NaN         0         NaN   \n",
      "\n",
      "   country  country_txt  region  ...      city   latitude   longitude  \\\n",
      "0      101        Japan       4  ...   Fukouka  33.580412  130.396361   \n",
      "1      101        Japan       4  ...   Fukouka  33.580412  130.396361   \n",
      "2      201       Taiwan       4  ...   Unknown  23.583333  119.583330   \n",
      "3      101        Japan       4  ...  Yokosuka  35.281341  139.672200   \n",
      "4      101        Japan       4  ...     Tokyo  35.689125  139.747742   \n",
      "5      101        Japan       4  ...     Itami  34.784306  135.400947   \n",
      "6      184  South Korea       4  ...     Seoul  37.566535  126.977969   \n",
      "7      101        Japan       4  ...     Tokyo  35.689125  139.747742   \n",
      "8      101        Japan       4  ...   Fukouka  33.580412  130.396361   \n",
      "9      101        Japan       4  ...     Tokyo  35.689125  139.747742   \n",
      "\n",
      "   specificity  vicinity  location  summary                      geometry  \\\n",
      "0            1         0       NaN      NaN  POINT (130.396361 33.580412)   \n",
      "1            1         0       NaN      NaN  POINT (130.396361 33.580412)   \n",
      "2            4         0       NaN      NaN   POINT (119.58333 23.583333)   \n",
      "3            1         0       NaN      NaN    POINT (139.6722 35.281341)   \n",
      "4            1         0       NaN      NaN  POINT (139.747742 35.689125)   \n",
      "5            1         0       NaN      NaN  POINT (135.400947 34.784306)   \n",
      "6            1         0       NaN      NaN  POINT (126.977969 37.566535)   \n",
      "7            1         0       NaN      NaN  POINT (139.747742 35.689125)   \n",
      "8            1         0       NaN      NaN  POINT (130.396361 33.580412)   \n",
      "9            1         0       NaN      NaN  POINT (139.747742 35.689125)   \n",
      "\n",
      "  Cluster       date  \n",
      "0       2        NaT  \n",
      "1       2 1970-03-31  \n",
      "2       0 1971-11-20  \n",
      "3       2 1973-04-25  \n",
      "4       2 1973-08-29  \n",
      "5       2 1974-07-15  \n",
      "6       2 1974-08-15  \n",
      "7       2 1974-11-14  \n",
      "8       2 1974-11-22  \n",
      "9       2 1975-02-28  \n",
      "\n",
      "[10 rows x 22 columns]\n"
     ]
    }
   ],
   "source": [
    "# Show the first 10 rows to check the date has been combined in the data frame\n",
    "print(df.head(10))"
   ]
  },
  {
   "cell_type": "code",
   "execution_count": 37,
   "id": "6fd0b66f-6de5-4bad-8080-0daea3fae6e2",
   "metadata": {},
   "outputs": [
    {
     "name": "stdout",
     "output_type": "stream",
     "text": [
      "\n",
      "Total number of rows: 839\n"
     ]
    }
   ],
   "source": [
    "# Count the total number of rows to show how many incidents there are\n",
    "print(\"\\nTotal number of rows:\", len(df))"
   ]
  },
  {
   "cell_type": "code",
   "execution_count": 38,
   "id": "c08fe116-bdcc-4251-bbb0-4b301621f17b",
   "metadata": {},
   "outputs": [
    {
     "name": "stdout",
     "output_type": "stream",
     "text": [
      "Total number of columns: 22\n"
     ]
    }
   ],
   "source": [
    "# Count how many columns are in the csv dataset\n",
    "col_count = len(df.columns)\n",
    "print(\"Total number of columns:\", col_count)"
   ]
  },
  {
   "cell_type": "code",
   "execution_count": 39,
   "id": "e3b724b9-e661-47da-8090-5e4452713388",
   "metadata": {},
   "outputs": [],
   "source": [
    "# Keep only the columns that are needed for the project\n",
    "columns_to_keep = ['region_txt', 'country_txt','city',  'date', 'latitude', 'longitude', 'summary']\n",
    "df = df[columns_to_keep]\n",
    "\n"
   ]
  },
  {
   "cell_type": "code",
   "execution_count": 40,
   "id": "4a497a98-b370-459f-8d2a-712585bb8fd7",
   "metadata": {},
   "outputs": [
    {
     "name": "stdout",
     "output_type": "stream",
     "text": [
      "Total number of columns: 7\n",
      "  region_txt  country_txt      city       date   latitude   longitude summary\n",
      "0  East Asia        Japan   Fukouka        NaT  33.580412  130.396361     NaN\n",
      "1  East Asia        Japan   Fukouka 1970-03-31  33.580412  130.396361     NaN\n",
      "2  East Asia       Taiwan   Unknown 1971-11-20  23.583333  119.583330     NaN\n",
      "3  East Asia        Japan  Yokosuka 1973-04-25  35.281341  139.672200     NaN\n",
      "4  East Asia        Japan     Tokyo 1973-08-29  35.689125  139.747742     NaN\n",
      "5  East Asia        Japan     Itami 1974-07-15  34.784306  135.400947     NaN\n",
      "6  East Asia  South Korea     Seoul 1974-08-15  37.566535  126.977969     NaN\n",
      "7  East Asia        Japan     Tokyo 1974-11-14  35.689125  139.747742     NaN\n",
      "8  East Asia        Japan   Fukouka 1974-11-22  33.580412  130.396361     NaN\n",
      "9  East Asia        Japan     Tokyo 1975-02-28  35.689125  139.747742     NaN\n"
     ]
    }
   ],
   "source": [
    "# Count how many columns are in the csv dataset\n",
    "col_count = len(df.columns)\n",
    "print(\"Total number of columns:\", col_count)\n",
    "\n",
    "# Show the first 10 rows to check the columns have been removed from the data frame\n",
    "print(df.head(10))"
   ]
  },
  {
   "cell_type": "code",
   "execution_count": 41,
   "id": "092db18f-6271-4a90-83a2-e012242257fb",
   "metadata": {},
   "outputs": [],
   "source": [
    "# Remove rows with missing latitude or longitude - as points need to be plotted\n",
    "if 'latitude' in df and 'longitude' in df:\n",
    "    df = df.dropna(subset=['latitude', 'longitude'])"
   ]
  },
  {
   "cell_type": "code",
   "execution_count": 42,
   "id": "fa1070a1-2f25-4c2e-83a8-c62044b33ba7",
   "metadata": {},
   "outputs": [
    {
     "name": "stdout",
     "output_type": "stream",
     "text": [
      "\n",
      "Total number of rows: 839\n"
     ]
    }
   ],
   "source": [
    "# Count the total number of rows to show how many incidents there are\n",
    "print(\"\\nTotal number of rows:\", len(df))"
   ]
  },
  {
   "cell_type": "code",
   "execution_count": 43,
   "id": "e4e85c30-7874-473f-9dad-746b059e52e8",
   "metadata": {},
   "outputs": [],
   "source": [
    "# lowercase text for all the columns to make handelling text easier if needed\n",
    "for col in df.columns:\n",
    "    if df[col].dtype == object:\n",
    "        df[col] = df[col].str.lower().str.strip()"
   ]
  },
  {
   "cell_type": "code",
   "execution_count": 44,
   "id": "f5521595-e789-4607-9e05-1ff954e83d23",
   "metadata": {},
   "outputs": [
    {
     "name": "stdout",
     "output_type": "stream",
     "text": [
      "\n",
      "Total number of rows: 694\n"
     ]
    }
   ],
   "source": [
    "# drop duplicates\n",
    "df.drop_duplicates(inplace=True)\n",
    "\n",
    "# Count the total number of rows do see how many duplicate records there were\n",
    "print(\"\\nTotal number of rows:\", len(df))"
   ]
  },
  {
   "cell_type": "code",

   "metadata": {},
   "outputs": [],
   "source": []
  }
 ],
 "metadata": {
  "kernelspec": {
   "display_name": "Python (Spatial_cluster)",
   "language": "python",
   "name": "spatial_cluster"
  },
  "language_info": {
   "codemirror_mode": {
    "name": "ipython",
    "version": 3
   },
   "file_extension": ".py",
   "mimetype": "text/x-python",
   "name": "python",
   "nbconvert_exporter": "python",
   "pygments_lexer": "ipython3",
   "version": "3.13.2"
  }
 },
 "nbformat": 4,
 "nbformat_minor": 5
}
