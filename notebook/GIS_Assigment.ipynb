{
 "cells": [
  {
   "cell_type": "code",
   "execution_count": 47,
   "id": "ddbc3632-47d7-4739-93d5-5170eec14800",
   "metadata": {},
   "outputs": [],
   "source": [
    "import os\n",
    "import tkinter as tk\n",
    "import pandas as pd\n",
    "import geopandas as gpd\n",
    "import folium\n",
    "import matplotlib.pyplot as plt\n",
    "from shapely.geometry import mapping\n",
    "from tkinter import filedialog\n",
    "from shapely.geometry import Point, Polygon, LineString\n",
    "import webbrowser\n",
    "from shapely.geometry import MultiPolygon\n",
    "import earthaccess\n",
    "from shapely.geometry.polygon import orient\n",
    "from shapely.geometry.polygon import orient\n"
   ]
  },
  {
   "cell_type": "code",
   "execution_count": 48,
   "id": "dbef20ab-1cc1-4f5e-866f-5e923aa91495",
   "metadata": {},
   "outputs": [],
   "source": [
    "# load the csv file use a dialog box (from TKinter user guuide)\n",
    "root = tk.Tk()\n",
    "root.withdraw()\n",
    "file = filedialog.askopenfilename()\n",
    "df = pd.read_csv(file, encoding='latin1')"
   ]
  },
  {
   "cell_type": "code",
   "execution_count": 49,
   "id": "e46cb4e1-b68c-4eeb-9c1a-995d22464fa8",
   "metadata": {},
   "outputs": [
    {
     "name": "stdout",
     "output_type": "stream",
     "text": [
      "First 10 rows of the data:\n",
      "     ï»¿eventid  iyear  imonth  iday approxdate  extended  resolution  \\\n",
      "0  1.970010e+11   1970       1     0        NaN         0         NaN   \n",
      "1  1.970030e+11   1970       3    31        NaN         1  03/04/1970   \n",
      "2  1.971110e+11   1971      11    20        NaN         0         NaN   \n",
      "3  1.973040e+11   1973       4    25        NaN         0         NaN   \n",
      "4  1.973080e+11   1973       8    29        NaN         0         NaN   \n",
      "5  1.974070e+11   1974       7    15        NaN         0         NaN   \n",
      "6  1.974080e+11   1974       8    15        NaN         0         NaN   \n",
      "7  1.974110e+11   1974      11    14        NaN         0         NaN   \n",
      "8  1.974110e+11   1974      11    22        NaN         0         NaN   \n",
      "9  1.975020e+11   1975       2    28        NaN         0         NaN   \n",
      "\n",
      "   country  country_txt  region region_txt provstate      city   latitude  \\\n",
      "0      101        Japan       4  East Asia   Fukouka   Fukouka  33.580412   \n",
      "1      101        Japan       4  East Asia   Fukouka   Fukouka  33.580412   \n",
      "2      201       Taiwan       4  East Asia    Penghu   Unknown  23.583333   \n",
      "3      101        Japan       4  East Asia  Kanagawa  Yokosuka  35.281341   \n",
      "4      101        Japan       4  East Asia     Tokyo     Tokyo  35.689125   \n",
      "5      101        Japan       4  East Asia     Hyogo     Itami  34.784306   \n",
      "6      184  South Korea       4  East Asia     Seoul     Seoul  37.566535   \n",
      "7      101        Japan       4  East Asia     Tokyo     Tokyo  35.689125   \n",
      "8      101        Japan       4  East Asia   Fukouka   Fukouka  33.580412   \n",
      "9      101        Japan       4  East Asia     Tokyo     Tokyo  35.689125   \n",
      "\n",
      "    longitude  specificity  vicinity location summary  \n",
      "0  130.396361            1         0      NaN     NaN  \n",
      "1  130.396361            1         0      NaN     NaN  \n",
      "2  119.583330            4         0      NaN     NaN  \n",
      "3  139.672200            1         0      NaN     NaN  \n",
      "4  139.747742            1         0      NaN     NaN  \n",
      "5  135.400947            1         0      NaN     NaN  \n",
      "6  126.977969            1         0      NaN     NaN  \n",
      "7  139.747742            1         0      NaN     NaN  \n",
      "8  130.396361            1         0      NaN     NaN  \n",
      "9  139.747742            1         0      NaN     NaN  \n",
      "\n",
      "-----------------------------\n",
      "\n",
      "Total number of rows: 847\n",
      "Total number of columns: 19\n"
     ]
    }
   ],
   "source": [
    "# load the csv into a dataframe df\n",
    "# Show the first 10 rows of the csv dataset  - to let me understand what is in it\n",
    "print(\"First 10 rows of the data:\")\n",
    "print(df.head(10))\n",
    "\n",
    "print(\"\\n-----------------------------\\n\")\n",
    "\n",
    "# Count how many rows are in the data, this will let you know what happens when it is cleaned\n",
    "row_count = len(df)\n",
    "print(\"Total number of rows:\", row_count)\n",
    "\n",
    "# Count how many columns are in the data so that you can understand the size and shape of the csv dataset for the terrorism\n",
    "col_count = len(df.columns)\n",
    "print(\"Total number of columns:\", col_count)"
   ]
  },
  {
   "cell_type": "code",
   "execution_count": 50,
   "id": "8da08040-1e45-4c1d-8f25-1e3370b0a324",
   "metadata": {},
   "outputs": [],
   "source": [
    "# to reduce the date three colums into one to limit the impact processing needed  (Big o ) notation) \n",
    "if 'iyear' in df and 'imonth' in df and 'iday' in df:\n",
    "    df['date'] = pd.to_datetime(\n",
    "        dict(year=df['iyear'], month=df['imonth'], day=df['iday']), errors='coerce')"
   ]
  },
  {
   "cell_type": "code",
   "execution_count": 51,
   "id": "9109f430-2757-47d8-9461-ed1beb561351",
   "metadata": {},
   "outputs": [
    {
     "name": "stdout",
     "output_type": "stream",
     "text": [
      "     ï»¿eventid  iyear  imonth  iday approxdate  extended  resolution  \\\n",
      "0  1.970010e+11   1970       1     0        NaN         0         NaN   \n",
      "1  1.970030e+11   1970       3    31        NaN         1  03/04/1970   \n",
      "2  1.971110e+11   1971      11    20        NaN         0         NaN   \n",
      "3  1.973040e+11   1973       4    25        NaN         0         NaN   \n",
      "4  1.973080e+11   1973       8    29        NaN         0         NaN   \n",
      "5  1.974070e+11   1974       7    15        NaN         0         NaN   \n",
      "6  1.974080e+11   1974       8    15        NaN         0         NaN   \n",
      "7  1.974110e+11   1974      11    14        NaN         0         NaN   \n",
      "8  1.974110e+11   1974      11    22        NaN         0         NaN   \n",
      "9  1.975020e+11   1975       2    28        NaN         0         NaN   \n",
      "\n",
      "   country  country_txt  region region_txt provstate      city   latitude  \\\n",
      "0      101        Japan       4  East Asia   Fukouka   Fukouka  33.580412   \n",
      "1      101        Japan       4  East Asia   Fukouka   Fukouka  33.580412   \n",
      "2      201       Taiwan       4  East Asia    Penghu   Unknown  23.583333   \n",
      "3      101        Japan       4  East Asia  Kanagawa  Yokosuka  35.281341   \n",
      "4      101        Japan       4  East Asia     Tokyo     Tokyo  35.689125   \n",
      "5      101        Japan       4  East Asia     Hyogo     Itami  34.784306   \n",
      "6      184  South Korea       4  East Asia     Seoul     Seoul  37.566535   \n",
      "7      101        Japan       4  East Asia     Tokyo     Tokyo  35.689125   \n",
      "8      101        Japan       4  East Asia   Fukouka   Fukouka  33.580412   \n",
      "9      101        Japan       4  East Asia     Tokyo     Tokyo  35.689125   \n",
      "\n",
      "    longitude  specificity  vicinity location summary       date  \n",
      "0  130.396361            1         0      NaN     NaN        NaT  \n",
      "1  130.396361            1         0      NaN     NaN 1970-03-31  \n",
      "2  119.583330            4         0      NaN     NaN 1971-11-20  \n",
      "3  139.672200            1         0      NaN     NaN 1973-04-25  \n",
      "4  139.747742            1         0      NaN     NaN 1973-08-29  \n",
      "5  135.400947            1         0      NaN     NaN 1974-07-15  \n",
      "6  126.977969            1         0      NaN     NaN 1974-08-15  \n",
      "7  139.747742            1         0      NaN     NaN 1974-11-14  \n",
      "8  130.396361            1         0      NaN     NaN 1974-11-22  \n",
      "9  139.747742            1         0      NaN     NaN 1975-02-28  \n"
     ]
    }
   ],
   "source": [
    "# Show the first 10 rows to check the date has been combined in the data frame\n",
    "print(df.head(10))"
   ]
  },
  {
   "cell_type": "code",
   "execution_count": 52,
   "id": "6fd0b66f-6de5-4bad-8080-0daea3fae6e2",
   "metadata": {},
   "outputs": [
    {
     "name": "stdout",
     "output_type": "stream",
     "text": [
      "\n",
      "Total number of rows: 847\n"
     ]
    }
   ],
   "source": [
    "# Count the total number of rows to show how many incidents there are\n",
    "print(\"\\nTotal number of rows:\", len(df))"
   ]
  },
  {
   "cell_type": "code",
   "execution_count": 53,
   "id": "c08fe116-bdcc-4251-bbb0-4b301621f17b",
   "metadata": {},
   "outputs": [
    {
     "name": "stdout",
     "output_type": "stream",
     "text": [
      "Total number of columns: 20\n"
     ]
    }
   ],
   "source": [
    "# Count how many columns are in the csv dataset\n",
    "col_count = len(df.columns)\n",
    "print(\"Total number of columns:\", col_count)"
   ]
  },
  {
   "cell_type": "code",
   "execution_count": 54,
   "id": "e3b724b9-e661-47da-8090-5e4452713388",
   "metadata": {},
   "outputs": [],
   "source": [
    "# Keep only the columns that are needed for the project\n",
    "columns_to_keep = ['region_txt', 'country_txt','city',  'date', 'latitude', 'longitude', 'summary']\n",
    "df = df[columns_to_keep]\n",
    "\n"
   ]
  },
  {
   "cell_type": "code",
   "execution_count": 55,
   "id": "4a497a98-b370-459f-8d2a-712585bb8fd7",
   "metadata": {},
   "outputs": [
    {
     "name": "stdout",
     "output_type": "stream",
     "text": [
      "Total number of columns: 7\n",
      "  region_txt  country_txt      city       date   latitude   longitude summary\n",
      "0  East Asia        Japan   Fukouka        NaT  33.580412  130.396361     NaN\n",
      "1  East Asia        Japan   Fukouka 1970-03-31  33.580412  130.396361     NaN\n",
      "2  East Asia       Taiwan   Unknown 1971-11-20  23.583333  119.583330     NaN\n",
      "3  East Asia        Japan  Yokosuka 1973-04-25  35.281341  139.672200     NaN\n",
      "4  East Asia        Japan     Tokyo 1973-08-29  35.689125  139.747742     NaN\n",
      "5  East Asia        Japan     Itami 1974-07-15  34.784306  135.400947     NaN\n",
      "6  East Asia  South Korea     Seoul 1974-08-15  37.566535  126.977969     NaN\n",
      "7  East Asia        Japan     Tokyo 1974-11-14  35.689125  139.747742     NaN\n",
      "8  East Asia        Japan   Fukouka 1974-11-22  33.580412  130.396361     NaN\n",
      "9  East Asia        Japan     Tokyo 1975-02-28  35.689125  139.747742     NaN\n"
     ]
    }
   ],
   "source": [
    "# Count how many columns are in the csv dataset\n",
    "col_count = len(df.columns)\n",
    "print(\"Total number of columns:\", col_count)\n",
    "\n",
    "# Show the first 10 rows to check the columns have been removed from the data frame\n",
    "print(df.head(10))"
   ]
  },
  {
   "cell_type": "code",
   "execution_count": 56,
   "id": "092db18f-6271-4a90-83a2-e012242257fb",
   "metadata": {},
   "outputs": [],
   "source": [
    "# Remove rows with missing latitude or longitude - as points need to be plotted\n",
    "if 'latitude' in df and 'longitude' in df:\n",
    "    df = df.dropna(subset=['latitude', 'longitude'])"
   ]
  },
  {
   "cell_type": "code",
   "execution_count": 57,
   "id": "fa1070a1-2f25-4c2e-83a8-c62044b33ba7",
   "metadata": {},
   "outputs": [
    {
     "name": "stdout",
     "output_type": "stream",
     "text": [
      "\n",
      "Total number of rows: 839\n"
     ]
    }
   ],
   "source": [
    "# Count the total number of rows to show how many incidents there are\n",
    "print(\"\\nTotal number of rows:\", len(df))"
   ]
  },
  {
   "cell_type": "code",
   "execution_count": 58,
   "id": "e4e85c30-7874-473f-9dad-746b059e52e8",
   "metadata": {},
   "outputs": [],
   "source": [
    "# lowercase text for all the columns to make handelling text easier if needed\n",
    "for col in df.columns:\n",
    "    if df[col].dtype == object:\n",
    "        df[col] = df[col].str.lower().str.strip()"
   ]
  },
  {
   "cell_type": "code",
   "execution_count": 59,
   "id": "f5521595-e789-4607-9e05-1ff954e83d23",
   "metadata": {},
   "outputs": [
    {
     "name": "stdout",
     "output_type": "stream",
     "text": [
      "\n",
      "Total number of rows: 694\n"
     ]
    }
   ],
   "source": [
    "# drop duplicates\n",
    "df.drop_duplicates(inplace=True)\n",
    "\n",
    "# Count the total number of rows do see how many duplicate records there were\n",
    "print(\"\\nTotal number of rows:\", len(df))"
   ]
  },
  {
   "cell_type": "code",
   "execution_count": 60,
   "id": "6ea22e2f-70ab-4f90-93ce-a5949ccbc685",
   "metadata": {},
   "outputs": [
    {
     "name": "stdout",
     "output_type": "stream",
     "text": [
      "  region_txt country_txt      city       date   latitude   longitude summary\n",
      "0  east asia       japan   fukouka        NaT  33.580412  130.396361     NaN\n",
      "1  east asia       japan   fukouka 1970-03-31  33.580412  130.396361     NaN\n",
      "2  east asia      taiwan   unknown 1971-11-20  23.583333  119.583330     NaN\n",
      "3  east asia       japan  yokosuka 1973-04-25  35.281341  139.672200     NaN\n",
      "4  east asia       japan     tokyo 1973-08-29  35.689125  139.747742     NaN\n"
     ]
    }
   ],
   "source": [
    "# Show a few rows to check if text is lowercased\n",
    "print(df.head(5))  # Shows first 5 rows"
   ]
  },
  {
   "cell_type": "code",
   "execution_count": 61,
   "id": "879d5c40-03d5-462d-81c5-7876ba187172",
   "metadata": {},
   "outputs": [
    {
     "name": "stdout",
     "output_type": "stream",
     "text": [
      "  region_txt country_txt      city       date   latitude   longitude summary\n",
      "0  east asia       japan   fukouka        NaT  33.580412  130.396361     NaN\n",
      "1  east asia       japan   fukouka 1970-03-31  33.580412  130.396361     NaN\n",
      "2  east asia      taiwan   unknown 1971-11-20  23.583333  119.583330     NaN\n",
      "3  east asia       japan  yokosuka 1973-04-25  35.281341  139.672200     NaN\n",
      "4  east asia       japan     tokyo 1973-08-29  35.689125  139.747742     NaN\n"
     ]
    }
   ],
   "source": [
    "print(df.head())\n"
   ]
  },
  {
   "cell_type": "code",
   "execution_count": 62,
   "id": "c43f84d2-3388-4653-b9fd-d4ecb181b9f9",
   "metadata": {},
   "outputs": [
    {
     "data": {
      "text/plain": [
       "True"
      ]
     },
     "execution_count": 62,
     "metadata": {},
     "output_type": "execute_result"
    }
   ],
   "source": [
    "# open file to get the shapefile of the countries\n",
    "root = tk.Tk()\n",
    "root.withdraw()\n",
    "\n",
    "file_path = filedialog.askopenfilename(\n",
    "    title=\"select your shapefile\",\n",
    "    filetypes=[(\"Shapefiles\", \"*.shp\")]\n",
    ")\n",
    "\n",
    "# load the selected shapefile of the countries\n",
    "gdf = gpd.read_file(file_path, encoding='latin1')\n",
    "\n",
    "# use the existing df_attacks (assumed already loaded and cleaned)\n",
    "\n",
    "# create a folium map and center it based on the shapefile\n",
    "bounds = gdf.total_bounds  # [minx, miny, maxx, maxy]\n",
    "center_lat = (bounds[1] + bounds[3]) / 2\n",
    "center_lon = (bounds[0] + bounds[2]) / 2\n",
    "\n",
    "# make the map\n",
    "m = folium.Map(location=[center_lat, center_lon], zoom_start=3)\n",
    "\n",
    "# add shapefile features\n",
    "for idx, row in gdf.iterrows():\n",
    "    geom = row['geometry']\n",
    "    \n",
    "    if isinstance(geom, Point):\n",
    "        folium.CircleMarker(\n",
    "            location=[geom.y, geom.x],\n",
    "            radius=3,\n",
    "            color='blue',\n",
    "            fill=True,\n",
    "            fill_opacity=0.6,\n",
    "            popup=f\"point - {row.get('city', 'unknown')}\"\n",
    "        ).add_to(m)\n",
    "        \n",
    "    elif isinstance(geom, Polygon):\n",
    "        folium.Polygon(\n",
    "            locations=[(coord[1], coord[0]) for coord in geom.exterior.coords],\n",
    "            color='green',\n",
    "            fill=True,\n",
    "            fill_opacity=0.4,\n",
    "            popup=\"polygon area\"\n",
    "        ).add_to(m)\n",
    "        \n",
    "    elif isinstance(geom, MultiPolygon):\n",
    "        for poly in geom:\n",
    "            folium.Polygon(\n",
    "                locations=[(coord[1], coord[0]) for coord in poly.exterior.coords],\n",
    "                color='purple',\n",
    "                fill=True,\n",
    "                fill_opacity=0.4,\n",
    "                popup=\"multipolygon area\"\n",
    "            ).add_to(m)\n",
    "\n",
    "    elif isinstance(geom, LineString):\n",
    "        folium.PolyLine(\n",
    "            locations=[(coord[1], coord[0]) for coord in geom.coords],\n",
    "            color='red',\n",
    "            weight=2,\n",
    "            popup=\"line path\"\n",
    "        ).add_to(m)\n",
    "\n",
    "# add attack locations on the same map\n",
    "for idx, row in df.iterrows():\n",
    "    folium.CircleMarker(\n",
    "        location=[row['latitude'], row['longitude']],\n",
    "        radius=2,\n",
    "        color='red',\n",
    "        fill=True,\n",
    "        fill_opacity=0.7,\n",
    "        popup=folium.Popup(\n",
    "            f\"city: {row.get('city', 'unknown')}<br>\"\n",
    "            f\"country: {row.get('country', 'unknown')}<br>\"\n",
    "            f\"date: {row.get('date', 'unknown')}\",\n",
    "            max_width=300\n",
    "        )\n",
    "    ).add_to(m)\n",
    "\n",
    "# save the combined map\n",
    "output_map = \"generated_map.html\"\n",
    "m.save(output_map)\n",
    "\n",
    "# open the html map automatically\n",
    "webbrowser.open(output_map)"
   ]
  },
  {
   "cell_type": "code",
   "execution_count": 63,
   "id": "152a396a-0b27-4da6-9d2b-91ee5174971d",
   "metadata": {},
   "outputs": [
    {
     "name": "stdout",
     "output_type": "stream",
     "text": [
      "EPSG:4326\n"
     ]
    }
   ],
   "source": [
    "# Check CRS\n",
    "print(gdf.crs)\n",
    "\n",
    "# If not EPSG:4326, reproject it:\n",
    "if gdf.crs != 'EPSG:4326':\n",
    "    gdf = gdf.to_crs(epsg=4326)\n"
   ]
  },
  {
   "cell_type": "code",
   "execution_count": 64,
   "id": "98e47c44-fc56-4d07-8713-e46d745c86cc",
   "metadata": {},
   "outputs": [
    {
     "name": "stdout",
     "output_type": "stream",
     "text": [
      "File loaded.\n",
      "Using existing shapefile.\n",
      "Number of features: 13\n"
     ]
    }
   ],
   "source": [
    "#start of sattelite imagery intergration use the already loaded shape file\n",
    "# open file \n",
    "root = tk.Tk()\n",
    "root.withdraw()\n",
    "\n",
    "# let user select a shapefile\n",
    "shapefile = filedialog.askopenfilename(title=\"Pick a shapefile\", filetypes=[(\"Shapefile\", \"*.shp\")])\n",
    "\n",
    "# read the shapefile\n",
    "if shapefile:\n",
    "    countries = gpd.read_file(shapefile)\n",
    "    countries = countries.to_crs(epsg=4326)\n",
    "    print(\"File loaded.\")\n",
    "else:\n",
    "    print(\"No file selected.\")\n",
    "\n",
    "try:\n",
    "    print(\"Using existing shapefile.\")\n",
    "    print(f\"Number of features: {len(countries)}\")\n",
    "except NameError:\n",
    "    print(\"Error: 'countries' is not defined. Please load the shapefile first.\")\n",
    "\n"
   ]
  },
  {
   "cell_type": "code",
   "execution_count": 65,
   "id": "27195a9d-4858-4207-899a-08b12b131564",
   "metadata": {},
   "outputs": [
    {
     "name": "stdout",
     "output_type": "stream",
     "text": [
      "Index(['id', 'Name', 'descriptio', 'timestamp', 'begin', 'end', 'altitudeMo',\n",
      "       'tessellate', 'extrude', 'visibility', 'drawOrder', 'icon', 'geometry'],\n",
      "      dtype='object')\n",
      "    id         Name  descriptio  timestamp  begin  end  altitudeMo  \\\n",
      "0  NaN      Vietnam         NaN        NaN    NaN  NaN         NaN   \n",
      "1  NaN       Taiwan         NaN        NaN    NaN  NaN         NaN   \n",
      "2  NaN  Phillipines         NaN        NaN    NaN  NaN         NaN   \n",
      "3  NaN     Malaysia         NaN        NaN    NaN  NaN         NaN   \n",
      "4  NaN     Thailand         NaN        NaN    NaN  NaN         NaN   \n",
      "5  NaN     Cambodia         NaN        NaN    NaN  NaN         NaN   \n",
      "6  NaN         Laos         NaN        NaN    NaN  NaN         NaN   \n",
      "7  NaN        Japan         NaN        NaN    NaN  NaN         NaN   \n",
      "8  NaN  North Korea         NaN        NaN    NaN  NaN         NaN   \n",
      "9  NaN        China         NaN        NaN    NaN  NaN         NaN   \n",
      "10 NaN    Indonesia         NaN        NaN    NaN  NaN         NaN   \n",
      "\n",
      "    tessellate  extrude  visibility  drawOrder  icon  \\\n",
      "0            1        0          -1        NaN   NaN   \n",
      "1            1        0          -1        NaN   NaN   \n",
      "2            1        0          -1        NaN   NaN   \n",
      "3            1        0          -1        NaN   NaN   \n",
      "4            1        0          -1        NaN   NaN   \n",
      "5            1        0          -1        NaN   NaN   \n",
      "6            1        0          -1        NaN   NaN   \n",
      "7            1        0          -1        NaN   NaN   \n",
      "8            1        0          -1        NaN   NaN   \n",
      "9            1        0          -1        NaN   NaN   \n",
      "10           1        0          -1        NaN   NaN   \n",
      "\n",
      "                                             geometry  \n",
      "0   POLYGON Z ((104.7234 8.40533 0, 104.48061 10.3...  \n",
      "1   POLYGON Z ((121.50595 25.43919 0, 122.09643 24...  \n",
      "2   POLYGON Z ((119.47888 16.6073 0, 120.68044 18....  \n",
      "3   POLYGON Z ((101.20442 2.83914 0, 99.98679 6.41...  \n",
      "4   POLYGON Z ((98.76353 7.51554 0, 98.21205 8.286...  \n",
      "5   POLYGON Z ((102.83346 11.60319 0, 102.41364 13...  \n",
      "6   POLYGON Z ((105.15374 14.33795 0, 105.69181 15...  \n",
      "7   POLYGON Z ((129.54169 33.34931 0, 132.34654 35...  \n",
      "8   POLYGON Z ((125.01935 39.49154 0, 124.19164 39...  \n",
      "9   POLYGON Z ((108.14817 19.84533 0, 109.74535 21...  \n",
      "10  POLYGON Z ((97.68926 2.05344 0, 95.03827 5.623...  \n"
     ]
    }
   ],
   "source": [
    "print(countries.columns)\n",
    "print(countries.head(11))\n"
   ]
  },
  {
   "cell_type": "code",
   "execution_count": 66,
   "id": "08991ca5-07fb-44b0-bd33-3f30dd4f20a2",
   "metadata": {},
   "outputs": [
    {
     "name": "stdout",
     "output_type": "stream",
     "text": [
      "['Vietnam' 'Taiwan' 'Phillipines' 'Malaysia' 'Thailand' 'Cambodia' 'Laos'\n",
      " 'Japan' 'North Korea' 'China' 'Indonesia' 'Macau' 'Hong Kong']\n",
      "   id         Name  descriptio  timestamp  begin  end  altitudeMo  tessellate  \\\n",
      "0 NaN      Vietnam         NaN        NaN    NaN  NaN         NaN           1   \n",
      "1 NaN       Taiwan         NaN        NaN    NaN  NaN         NaN           1   \n",
      "2 NaN  Phillipines         NaN        NaN    NaN  NaN         NaN           1   \n",
      "3 NaN     Malaysia         NaN        NaN    NaN  NaN         NaN           1   \n",
      "4 NaN     Thailand         NaN        NaN    NaN  NaN         NaN           1   \n",
      "\n",
      "   extrude  visibility  drawOrder  icon  \\\n",
      "0        0          -1        NaN   NaN   \n",
      "1        0          -1        NaN   NaN   \n",
      "2        0          -1        NaN   NaN   \n",
      "3        0          -1        NaN   NaN   \n",
      "4        0          -1        NaN   NaN   \n",
      "\n",
      "                                            geometry  \n",
      "0  POLYGON Z ((104.7234 8.40533 0, 104.48061 10.3...  \n",
      "1  POLYGON Z ((121.50595 25.43919 0, 122.09643 24...  \n",
      "2  POLYGON Z ((119.47888 16.6073 0, 120.68044 18....  \n",
      "3  POLYGON Z ((101.20442 2.83914 0, 99.98679 6.41...  \n",
      "4  POLYGON Z ((98.76353 7.51554 0, 98.21205 8.286...  \n"
     ]
    }
   ],
   "source": [
    "# show all unique names in the Name column\n",
    "print(countries['Name'].unique())\n",
    "print(countries.head(5))\n"
   ]
  },
  {
   "cell_type": "code",
   "execution_count": 67,
   "id": "e341b9b2-8834-4510-8008-3216e17bd745",
   "metadata": {},
   "outputs": [
    {
     "name": "stdout",
     "output_type": "stream",
     "text": [
      "bounds for hong kong\n",
      "minx: 113.818832485244\n",
      "miny: 22.10321497315797\n",
      "maxx: 114.4280142022764\n",
      "maxy: 22.5719524150113\n"
     ]
    }
   ],
   "source": [
    "# get the bounds for a  polygon in the shapefile\n",
    "\n",
    "\n",
    "# set the name of the feature to extract\n",
    "feature_name = \"hong kong\"  \n",
    "\n",
    "# filter the countries data using the name column\n",
    "outline = countries[countries['Name'].str.lower() == feature_name]\n",
    "\n",
    "# check if the feature exists\n",
    "if outline.empty:\n",
    "    print(\"no feature found with that name\")\n",
    "else:\n",
    "    # get the bounds [minx, miny, maxx, maxy]\n",
    "    bounds = outline.total_bounds\n",
    "    print(\"bounds for\", feature_name)\n",
    "    print(\"minx:\", bounds[0])\n",
    "    print(\"miny:\", bounds[1])\n",
    "    print(\"maxx:\", bounds[2])\n",
    "    print(\"maxy:\", bounds[3])\n",
    "    \n",
    "    # create the map centered on the feature\n",
    "    center_lat = (bounds[1] + bounds[3]) / 2\n",
    "    center_lon = (bounds[0] + bounds[2]) / 2\n",
    "    m = folium.Map(location=[center_lat, center_lon], zoom_start=6)\n",
    "\n",
    "    # add a rectangle for the bounding box\n",
    "    folium.Rectangle(\n",
    "        bounds=[[bounds[1], bounds[0]], [bounds[3], bounds[2]]],  # [[southwest], [northeast]]\n",
    "        color='orange',\n",
    "        fill=False,\n",
    "        weight=3,\n",
    "        dash_array='5, 5',\n",
    "        tooltip=f\"bounding box for {feature_name}\"\n",
    "    ).add_to(m)\n",
    "\n",
    "    # add the actual polygon outline too\n",
    "    folium.GeoJson(outline).add_to(m)\n",
    "\n",
    "    # show the map\n",
    "    m.save(\"bounding_box_map.html\")\n",
    "    #import webbrowser\n",
    "    webbrowser.open(\"bounding_box_map.html\")\n"
   ]
  },
  {
   "cell_type": "code",
   "execution_count": 68,
   "id": "d0d957da-b12a-459d-a454-8fb0a913a312",
   "metadata": {},
   "outputs": [
    {
     "data": {
      "text/plain": [
       "<bound method GeoPandasBase.minimum_rotated_rectangle of     id       Name  descriptio  timestamp  begin  end  altitudeMo  tessellate  \\\n",
       "12 NaN  Hong Kong         NaN        NaN    NaN  NaN         NaN           1   \n",
       "\n",
       "    extrude  visibility  drawOrder  icon  \\\n",
       "12        0          -1        NaN   NaN   \n",
       "\n",
       "                                             geometry  \n",
       "12  POLYGON Z ((114.24435 22.57195 0, 114.34411 22...  >"
      ]
     },
     "execution_count": 68,
     "metadata": {},
     "output_type": "execute_result"
    }
   ],
   "source": [
    "# gets the minimum rotated rectangle that covers the outline from course code\n",
    "search_area = outline.minimum_rotated_rectangle\n",
    "\n",
    "search_area # again, in a jupyter notebook, this displays the polygon"
   ]
  },
  {
   "cell_type": "code",
   "execution_count": 69,
   "id": "eb1ec3e9-2000-45ff-9b74-f15e1fda8db8",
   "metadata": {},
   "outputs": [
    {
     "data": {
      "text/plain": [
       "<earthaccess.auth.Auth at 0x21f61270c20>"
      ]
     },
     "execution_count": 69,
     "metadata": {},
     "output_type": "execute_result"
    }
   ],
   "source": [
    "earthaccess.login(strategy='.netrc')"
   ]
  },
  {
   "cell_type": "code",
   "execution_count": 70,
   "id": "2b9d7264-8fa8-4ba4-a850-f4651ee6b068",
   "metadata": {},
   "outputs": [
    {
     "name": "stdout",
     "output_type": "stream",
     "text": [
      "Help on function search_data in module earthaccess.api:\n",
      "\n",
      "search_data(count: int = -1, **kwargs: Any) -> List[earthaccess.results.DataGranule]\n",
      "    Search dataset granules using NASA's CMR.\n",
      "\n",
      "    [https://cmr.earthdata.nasa.gov/search/site/docs/search/api.html](https://cmr.earthdata.nasa.gov/search/site/docs/search/api.html)\n",
      "\n",
      "    Parameters:\n",
      "        count: Number of records to get, -1 = all\n",
      "        kwargs (Dict):\n",
      "            arguments to CMR:\n",
      "\n",
      "            * **short_name**: dataset short name, e.g. ATL08\n",
      "            * **version**: dataset version\n",
      "            * **doi**: DOI for a dataset\n",
      "            * **daac**: e.g. NSIDC or PODAAC\n",
      "            * **provider**: particular to each DAAC, e.g. POCLOUD, LPDAAC etc.\n",
      "            * **temporal**: a tuple representing temporal bounds in the form\n",
      "              `(date_from, date_to)`\n",
      "            * **bounding_box**: a tuple representing spatial bounds in the form\n",
      "              `(lower_left_lon, lower_left_lat, upper_right_lon, upper_right_lat)`\n",
      "\n",
      "    Returns:\n",
      "        a list of DataGranules that can be used to access the granule files by using\n",
      "            `download()` or `open()`.\n",
      "\n",
      "    Raises:\n",
      "        RuntimeError: The CMR query failed.\n",
      "\n",
      "    Examples:\n",
      "        ```python\n",
      "        datasets = earthaccess.search_data(\n",
      "            doi=\"10.5067/SLREF-CDRV2\",\n",
      "            cloud_hosted=True,\n",
      "            temporal=(\"2002-01-01\", \"2002-12-31\")\n",
      "        )\n",
      "        ```\n",
      "\n"
     ]
    }
   ],
   "source": [
    "help(earthaccess.search_data)"
   ]
  },
  {
   "cell_type": "code",
   "execution_count": 71,
   "id": "c7065760-8efd-45cd-befa-70ebe0e4e294",
   "metadata": {},
   "outputs": [],
   "source": [
    "# get the minimum rotated rectangle that covers the outline\n",
    "search_area = outline.minimum_rotated_rectangle()\n",
    "\n",
    "# extract the polygon from the GeoSeries\n",
    "search_area = search_area.iloc[0]\n",
    "\n",
    "# force the polygon into counter-clockwise orientation (required by CMR)\n",
    "search_area = orient(search_area, sign=1.0)\n",
    "\n",
    "# get the corner coordinates\n",
    "coords = list(search_area.exterior.coords)\n",
    "\n",
    "# search for datasets using these CCW coords\n",
    "datasets = earthaccess.search_datasets(\n",
    "    keyword='elevation',\n",
    "    polygon=coords\n",
    ")\n"
   ]
  },
  {
   "cell_type": "code",
   "execution_count": 79,
   "id": "0191c8e6-e612-4511-b5ca-46d50051de2d",
   "metadata": {},
   "outputs": [
    {
     "name": "stdout",
     "output_type": "stream",
     "text": [
      "Searching for MODIS Terra data within selected county...\n"
     ]
    },
    {
     "ename": "NameError",
     "evalue": "name 'minimum_rotated_rectangle' is not defined",
     "output_type": "error",
     "traceback": [
      "\u001b[31m---------------------------------------------------------------------------\u001b[39m",
      "\u001b[31mNameError\u001b[39m                                 Traceback (most recent call last)",
      "\u001b[36mCell\u001b[39m\u001b[36m \u001b[39m\u001b[32mIn[79]\u001b[39m\u001b[32m, line 5\u001b[39m\n\u001b[32m      1\u001b[39m \u001b[38;5;28mprint\u001b[39m(\u001b[33m\"\u001b[39m\u001b[33mSearching for MODIS Terra data within selected county...\u001b[39m\u001b[33m\"\u001b[39m)\n\u001b[32m      2\u001b[39m results = earthaccess.search_data(\n\u001b[32m      3\u001b[39m     short_name=\u001b[33m\"\u001b[39m\u001b[33mMOD13Q1\u001b[39m\u001b[33m\"\u001b[39m,\n\u001b[32m      4\u001b[39m     cloud_hosted=\u001b[38;5;28;01mTrue\u001b[39;00m,\n\u001b[32m----> \u001b[39m\u001b[32m5\u001b[39m     bounding_box=\u001b[43mminimum_rotated_rectangle\u001b[49m,\n\u001b[32m      6\u001b[39m     temporal=(\u001b[33m\"\u001b[39m\u001b[33m2000-01-01\u001b[39m\u001b[33m\"\u001b[39m, \u001b[33m\"\u001b[39m\u001b[33m2023-01-31\u001b[39m\u001b[33m\"\u001b[39m)\n\u001b[32m      7\u001b[39m )\n",
      "\u001b[31mNameError\u001b[39m: name 'minimum_rotated_rectangle' is not defined"
     ]
    }
   ],
   "source": [
    "print(\"Searching for MODIS Terra data within selected county...\")\n",
    "results = earthaccess.search_data(\n",
    "    short_name=\"MOD13Q1\",\n",
    "    cloud_hosted=True,\n",
    "    bounding_box=minimum_rotated_rectangle,\n",
    "    temporal=(\"2000-01-01\", \"2023-01-31\")\n",
    ")"
   ]
  },
  {
   "cell_type": "code",
   "execution_count": null,
   "id": "b153bd7c-f51d-4dae-a35a-1e4dd018ab1a",
   "metadata": {},
   "outputs": [],
   "source": []
  }
 ],
 "metadata": {
  "kernelspec": {
   "display_name": "Python (Spatial_cluster)",
   "language": "python",
   "name": "spatial_cluster"
  },
  "language_info": {
   "codemirror_mode": {
    "name": "ipython",
    "version": 3
   },
   "file_extension": ".py",
   "mimetype": "text/x-python",
   "name": "python",
   "nbconvert_exporter": "python",
   "pygments_lexer": "ipython3",
   "version": "3.13.2"
  }
 },
 "nbformat": 4,
 "nbformat_minor": 5
}
