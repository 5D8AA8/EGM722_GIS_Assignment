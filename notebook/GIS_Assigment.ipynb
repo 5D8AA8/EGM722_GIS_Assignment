{
 "cells": [
  {
   "cell_type": "code",
   "execution_count": null,
   "id": "ddbc3632-47d7-4739-93d5-5170eec14800",
   "metadata": {},
   "outputs": [],
   "source": [
    "import os\n",
    "import pandas as pd\n",
    "import geopandas as gpd\n",
    "import folium\n",
    "import matplotlib.pyplot as plt\n",
    "from shapely.geometry import mapping\n",
    "\n"
   ]
  }
 ],
 "metadata": {
  "kernelspec": {
   "display_name": "Python (Spatial_cluster)",
   "language": "python",
   "name": "spatial_cluster"
  },
  "language_info": {
   "codemirror_mode": {
    "name": "ipython",
    "version": 3
   },
   "file_extension": ".py",
   "mimetype": "text/x-python",
   "name": "python",
   "nbconvert_exporter": "python",
   "pygments_lexer": "ipython3",
   "version": "3.13.2"
  }
 },
 "nbformat": 4,
 "nbformat_minor": 5
}
