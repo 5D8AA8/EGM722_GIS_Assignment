{
 "cells": [
  {
   "cell_type": "code",
   "execution_count": 7,
   "id": "ddbc3632-47d7-4739-93d5-5170eec14800",
   "metadata": {},
   "outputs": [],
   "source": [
    "import os\n",
    "import tkinter as tk\n",
    "import pandas as pd\n",
    "import geopandas as gpd\n",
    "import folium\n",
    "import matplotlib.pyplot as plt\n",
    "from shapely.geometry import mapping\n",
    "from tkinter import filedialog\n",
    "\n"
   ]
  },
  {
   "cell_type": "code",
   "execution_count": 8,
   "id": "dbef20ab-1cc1-4f5e-866f-5e923aa91495",
   "metadata": {},
   "outputs": [],
   "source": [
    "# load the csv file use a dialog box (from TKinter user guuide)\n",
    "root = tk.Tk()\n",
    "root.withdraw()\n",
    "file = filedialog.askopenfilename()\n",
    "df = pd.read_csv(file, encoding='latin1')"
   ]
  },
  {
   "cell_type": "code",
   "execution_count": null,
   "id": "e46cb4e1-b68c-4eeb-9c1a-995d22464fa8",
   "metadata": {},
   "outputs": [],
   "source": [
    "# load the csv into a dataframe df\n",
    "# Show the first 10 rows of the csv dataset  - to let me understand what is in it\n",
    "print(\"First 10 rows of the data:\")\n",
    "print(df.head(10))\n",
    "\n",
    "print(\"\\n-----------------------------\\n\")\n",
    "\n",
    "# Count how many rows are in the data, this will let you know what happens when it is cleaned\n",
    "row_count = len(df)\n",
    "print(\"Total number of rows:\", row_count)\n",
    "\n",
    "# Count how many columns are in the data so that you can understand the size and shape of the csv dataset for the terrorism\n",
    "col_count = len(df.columns)\n",
    "print(\"Total number of columns:\", col_count)"
   ]
  }
 ],
 "metadata": {
  "kernelspec": {
   "display_name": "Python (Spatial_cluster)",
   "language": "python",
   "name": "spatial_cluster"
  },
  "language_info": {
   "codemirror_mode": {
    "name": "ipython",
    "version": 3
   },
   "file_extension": ".py",
   "mimetype": "text/x-python",
   "name": "python",
   "nbconvert_exporter": "python",
   "pygments_lexer": "ipython3",
   "version": "3.13.2"
  }
 },
 "nbformat": 4,
 "nbformat_minor": 5
}
